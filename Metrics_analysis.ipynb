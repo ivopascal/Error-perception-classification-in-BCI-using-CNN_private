{
 "cells": [
  {
   "cell_type": "code",
   "execution_count": 39,
   "id": "0c8ea3ff-4bd9-4817-820b-a49eec7c6168",
   "metadata": {},
   "outputs": [],
   "source": [
    "# test_metrics_path = \"BCI_root/Results/metrics_Bayesian_CorreiaNet_Variance_[2022-11-28,15:18].pkl\"\n",
    "# test_metrics_path_continuous = \"BCI_root/Results/metrics_Bayesian_CorreiaNet_Variance_continuous_[2022-11-28,15:25].pkl\"\n",
    "# undersampling_interval = 10\n",
    "\n",
    "# test_metrics_path = \"BCI_root/Results/metrics_Bayesian_CorreiaNet_Variance_[2022-11-29,09:47].pkl\"\n",
    "# test_metrics_path_continuous = \"BCI_root/Results/metrics_Bayesian_CorreiaNet_Variance_continuous_[2022-11-29,10:58].pkl\"\n",
    "# undersampling_interval = 1\n",
    "\n",
    "\n",
    "# test_metrics_path = \"BCI_root/Results/metrics_Bayesian_EEGNet_Variance_[2022-11-29,11:02].pkl\"\n",
    "# test_metrics_path_continuous = \"BCI_root/Results/metrics_Bayesian_EEGNet_Variance_continuous_[2022-11-29,14:56].pkl\"\n",
    "# undersampling_interval = 1\n",
    "\n",
    "# test_metrics_path = \"BCI_root/Results/metrics_Bayesian_EEGNet_Variance_no_sigmoid_[2022-11-29,15:56].pkl\"\n",
    "# test_metrics_path_continuous = \"BCI_root/Results/metrics_Bayesian_EEGNet_Variance_no_sigmoid_continuous_[2022-11-29,16:19].pkl\"\n",
    "# undersampling_interval = 10\n",
    "\n",
    "\n",
    "# test_metrics_path = \"BCI_root/Results/metrics_Bayesian_EEGNet_Variance_mock_[2022-12-02,08:57].pkl\"\n",
    "# test_metrics_path_continuous = \"BCI_root/Results/metrics_Bayesian_CorreiaNet_Variance_mock_continuous_[2022-12-02,09:17].pkl\"\n",
    "# undersampling_interval = 8\n",
    "\n",
    "\n",
    "# test_metrics_path_continuous = \"BCI_root/Results/metrics_Bayesian_CorreiaNet_Variance_mock_continuous_[2022-12-02,10:13].pkl\"\n",
    "# undersampling_interval = 10\n",
    "\n",
    "###### Everything above here doesn't have participant indices recorded!\n",
    "\n",
    "\n",
    "\n",
    "# test_metrics_path_continuous = \"BCI_root/Results/metrics_Ensemble_CorreiaNet_continuous_[2022-12-06,10:21].pkl\"\n",
    "# undersampling_interval = 10\n",
    "\n",
    "\n",
    "\n",
    "\n",
    "\n",
    "# test_metrics_path_continuous = \"BCI_root/Results/metrics_Ensemble_EEGNet_continuous_[2022-12-06,10:47].pkl\"\n",
    "# undersampling_interval = 10\n",
    "\n",
    "\n",
    "# test_metrics_path_continuous = \"BCI_root/Results/metrics_20Ensemble_EEGNet_continuous_[2022-12-06,11:46].pkl\"\n",
    "# undersampling_interval = 10\n",
    "\n",
    "\n",
    "# test_metrics_path_continuous = \"BCI_root/Results/metrics_BayesianEEGNet_continuous_[2022-12-06,11:54].pkl\"\n",
    "# undersampling_interval = 10\n",
    "\n",
    "test_metrics_path_continuous = \"BCI_root/Results/metrics_BayesianCorreiaNet_continuous_[2022-12-06,12:24].pkl\"\n",
    "undersampling_interval = 10\n",
    "\n",
    "# test_metrics_path_continuous = \"BCI_root/Results/metrics_UnbalancedBayesianCorreiaNet_continuous_[2022-12-06,13:03].pkl\"\n",
    "# undersampling_interval = 10\n",
    "\n",
    "# test_metrics_path_continuous = \"BCI_root/Results/metrics_Unbalanced20EnsembleEEGNet_continuous_[2022-12-06,15:17].pkl\"\n",
    "# undersampling_interval = 10\n",
    "\n",
    "# test_metrics_path_continuous = \"BCI_root/Results/metrics_Balanced20EnsembleCorreiaNet_continuous_[2022-12-06,19:55].pkl\"\n",
    "# undersampling_interval = 10\n",
    "\n",
    "\n",
    "\n",
    "# test_metrics_path_continuous = \"BCI_root/Results/metrics_NoStrideCorreiaNetEnsemble_continuous_[2022-12-07,11:37].pkl\"\n",
    "# undersampling_interval = 10\n",
    "\n",
    "\n",
    "\n",
    "\n",
    "# test_metrics_path_continuous = \"BCI_root/Results/metrics_Proper_EEGNet_continuous_[2022-12-07,12:13].pkl\"\n",
    "# undersampling_interval = 10\n",
    "\n",
    "\n",
    "\n",
    "# test_metrics_path_continuous = \"BCI_root/Results/metrics_5ensembleProper_EEGNet_continuous_[2022-12-07,12:37].pkl\"\n",
    "# undersampling_interval = 10\n",
    "\n",
    "# test_metrics_path_continuous = \"BCI_root/Results/metrics_CrossEntropy5ensembleProper_EEGNet_continuous_[2022-12-07,14:52].pkl\"\n",
    "# undersampling_interval = 10\n",
    "\n",
    "# test_metrics_path_continuous = \"BCI_root/Results/metrics_400ms5ensembleCorreiaNet_continuous_[2022-12-07,16:39].pkl\"\n",
    "# undersampling_interval = 10\n",
    "\n",
    "# test_metrics_path_continuous = \"BCI_root/Results/metrics_600ms5ensembleCorreiaNet_continuous_[2022-12-07,16:52].pkl\"\n",
    "# undersampling_interval = 10\n",
    "\n",
    "\n",
    "\n",
    "# test_metrics_path_continuous = \"BCI_root/Results/metrics_1000ms5ensembleCorreiaNet_continuous_[2022-12-07,16:09].pkl\"\n",
    "# undersampling_interval = 10\n",
    "\n",
    "\n",
    "\n",
    "# test_metrics_path_continuous = \"BCI_root/Results/metrics_LDA_continuous_[2022-12-08,15:41].pkl\"\n",
    "# undersampling_interval = 10\n",
    "\n",
    "\n",
    "# test_metrics_path_continuous = \"BCI_root/Results/metrics_LDA_continuous_[2022-12-08,15:56].pkl\" # This one uses the \"correct\" number of PCAs (expl 99%)\n",
    "# undersampling_interval = 10\n",
    "\n",
    "\n",
    "# test_metrics_path_continuous = \"BCI_root/Results/metrics_LDA_prewindow_continuous_[2022-12-08,18:05].pkl\" \n",
    "# undersampling_interval = 10\n",
    "\n",
    "\n",
    "# test_metrics_path_continuous = \"BCI_root/Results/metrics_LDA_prewindow_600_continuous_[2022-12-08,18:09].pkl\" \n",
    "# undersampling_interval = 10\n",
    "\n",
    "# test_metrics_path_continuous = \"BCI_root/Results/metrics_LDA_prewindow_600x600_continuous_[2022-12-08,18:15].pkl\" \n",
    "# undersampling_interval = 10\n",
    "\n",
    "\n",
    "\n",
    "# test_metrics_path_continuous = \"BCI_root/Results/metrics_LDA_prewindow_600x600_continuous_[2022-12-09,09:38].pkl\" # actualy 300 x 600 \n",
    "# undersampling_interval = 10\n",
    "\n",
    "\n",
    "# test_metrics_path_continuous = \"BCI_root/Results/metrics_ProperEEGNetEnsembleWithPreWindow_continuous_[2022-12-09,10:37].pkl\"\n",
    "# undersampling_interval = 10\n",
    "\n",
    "\n",
    "\n",
    "# test_metrics_path_continuous = \"BCI_root/Results/metrics_600x600LDA_continuous_[2022-12-09,11:06].pkl\"\n",
    "# undersampling_interval = 10\n",
    "\n",
    "\n",
    "# test_metrics_path_continuous = \"BCI_root/Results/metrics_600x600ProperEEGEnsemble_continuous_[2022-12-09,12:13].pkl\"\n",
    "# undersampling_interval = 10\n",
    "\n",
    "\n",
    "test_metrics_path_continuous = \"BCI_root/Results/metrics_TorchEEGNet5Ensemble_continuous_[2022-12-09,14:22].pkl\"\n",
    "undersampling_interval = 10\n",
    "\n",
    "\n",
    "\n",
    "\n",
    "# test_metrics_path_continuous = \"BCI_root/Results/metrics_FBCNet5Ensemble_continuous_[2022-12-12,08:57].pkl\"\n",
    "# undersampling_interval = 10\n",
    "\n",
    "# test_metrics_path_continuous = \"BCI_root/Results/metrics_UnbalancedFBCNet5Ensemble_continuous_[2022-12-12,09:21].pkl\"\n",
    "# undersampling_interval = 10\n",
    "\n",
    "\n",
    "\n",
    "# test_metrics_path_continuous = \"BCI_root/Results/metrics_LargeTorchEEGEnsemble_continuous_[2022-12-12,14:16].pkl\"\n",
    "# undersampling_interval = 10\n",
    "\n",
    "# test_metrics_path_continuous = \"BCI_root/Results/metrics_Causal_continuous_[2022-12-15,17:53].pkl\"\n",
    "# undersampling_interval = 10\n",
    "\n",
    "\n",
    "# test_metrics_path_continuous = \"BCI_root/Results/metrics_Causal_continuous_[2022-12-19,10:34].pkl\"  # This one uses ICA\n",
    "# undersampling_interval = 10\n",
    "\n",
    "# test_metrics_path_continuous = \"BCI_root/Results/metrics_ICA_OnTestData_continuous_[2022-12-19,11:23].pkl\"\n",
    "# undersampling_interval = 10\n",
    "\n",
    "\n",
    "# test_metrics_path_continuous = \"BCI_root/Results/metrics_NoICA_LDA_continuous_[2022-12-19,11:31].pkl\"\n",
    "# undersampling_interval = 10\n",
    "\n",
    "# test_metrics_path_continuous = \"BCI_root/Results/metrics_Small_ICA_LDA_continuous_[2022-12-19,11:40].pkl\"\n",
    "# undersampling_interval = 10\n",
    "\n",
    "# test_metrics_path_continuous = \"BCI_root/Results/metrics_Test_ICA_Pre_Bandpass_continuous_[2022-12-19,12:19].pkl\" # This is aggressive on the ICA\n",
    "# undersampling_interval = 10\n",
    "\n",
    "# test_metrics_path_continuous = \"BCI_root/Results/metrics_Test_ICA_Pre_Bandpass_CNN_continuous_[2022-12-19,12:34].pkl\" # This is aggressive on the ICA\n",
    "# undersampling_interval = 10\n",
    "\n",
    "\n",
    "test_metrics_path_continuous = \"BCI_root/Results/metrics_Test_Interpolate_HEOG_continuous_[2022-12-19,15:27].pkl\" # This is aggressive on the ICA\n",
    "undersampling_interval = 10\n",
    "\n",
    "\n",
    "test_metrics_path_continuous = \"BCI_root/Results/metrics_Test_Interpolate_HEOG_CNN_continuous_[2022-12-19,15:40].pkl\" # This is aggressive on the ICA\n",
    "undersampling_interval = 10\n",
    "\n",
    "\n",
    "\n",
    "test_metrics_path_continuous = \"BCI_root/Results/metrics_HEOG_LDA_Fair_Test_continuous_[2022-12-19,16:05].pkl\" # This is aggressive on the ICA\n",
    "undersampling_interval = 10\n",
    "\n",
    "test_metrics_path_continuous = \"BCI_root/Results/metrics_EEGNet_Disentangling_continuous_[2023-01-03,17:03].pkl\"\n",
    "undersampling_interval = 10\n",
    "\n",
    "\n",
    "\n",
    "# The predictions for the following ensembles are actually the predicitons of a single model, so they should deviate/be worse than the whole ensemble performs!\n",
    "# test_metrics_path_continuous = \"BCI_root/Results/metrics_Ensemble_Disentangling_continuous_[2023-01-06,10:17].pkl\"\n",
    "# undersampling_interval = 10\n",
    "\n",
    "\n",
    "# test_metrics_path_continuous = \"BCI_root/Results/metrics_Ensemble_Disentangling_Large_Connection_continuous_[2023-01-06,11:38].pkl\"\n",
    "# undersampling_interval = 10\n",
    "\n",
    "# test_metrics_path_continuous = \"BCI_root/Results/metrics_Ensemble_Disentangling_Large_Connection_softmax_uncertainties_continuous_[2023-01-06,12:38].pkl\" \n",
    "# here the uncertainties are NOT Shannon Entropy, they are simply p(y) (effectively foregoing the entropy function)\n",
    "undersampling_interval = 10\n",
    "\n",
    "\n",
    "# test_metrics_path_continuous = \"BCI_root/Results/metrics_Ensemble_Disentangling_0NLL_continuous_[2023-01-09,15:50].pkl\" \n",
    "# undersampling_interval = 10\n",
    "\n",
    "# test_metrics_path_continuous = \"BCI_root/Results/metrics_Ensemble_Disentangling_0.5NLL_continuous_[2023-01-10,09:19].pkl\" \n",
    "# undersampling_interval = 10\n",
    "\n",
    "\n",
    "# test_metrics_path_continuous = \"BCI_root/Results/metrics_Ensemble_Disentangling_1.0NLL_continuous_[2023-01-10,10:11].pkl\" \n",
    "# undersampling_interval = 10\n",
    "\n",
    "test_metrics_path_continuous = \"BCI_root/Results/metrics_Ensemble_EEGNet_continuous_[2023-01-10,10:49].pkl\" \n",
    "undersampling_interval = 10\n"
   ]
  },
  {
   "cell_type": "code",
   "execution_count": 40,
   "id": "30ec0e6e-e629-4003-85fe-7d1e74646a20",
   "metadata": {},
   "outputs": [],
   "source": [
    "from src.data.util import open_file_pickle\n",
    "import torch\n",
    "import numpy as np\n",
    "from src.util.util import milliseconds_to_samples, samples_to_milliseconds\n",
    "import matplotlib.pyplot as plt\n",
    "from tqdm import tqdm\n",
    "from dataclasses import fields\n",
    "from sklearn.metrics import classification_report, f1_score\n",
    "from sklearn.metrics import roc_curve, auc\n",
    "from sklearn.linear_model import LinearRegression"
   ]
  },
  {
   "cell_type": "code",
   "execution_count": 41,
   "id": "357f4766-6cb8-4376-8e46-deaeac2966d9",
   "metadata": {},
   "outputs": [],
   "source": [
    "# test_metrics = open_file_pickle(test_metrics_path)\n",
    "test_metrics_continuous = open_file_pickle(test_metrics_path_continuous).pred_labels"
   ]
  },
  {
   "cell_type": "code",
   "execution_count": 42,
   "id": "0816091a-73b3-4d61-8a97-42aaa34c032f",
   "metadata": {},
   "outputs": [
    {
     "data": {
      "text/plain": [
       "4200"
      ]
     },
     "execution_count": 42,
     "metadata": {},
     "output_type": "execute_result"
    }
   ],
   "source": [
    "len(test_metrics_continuous.y_predicted)"
   ]
  },
  {
   "cell_type": "code",
   "execution_count": 43,
   "id": "6635e8af-cc89-4854-ab18-dc5e6ca1fac0",
   "metadata": {},
   "outputs": [
    {
     "name": "stdout",
     "output_type": "stream",
     "text": [
      "(4199,)\n",
      "torch.Size([4199])\n",
      "0.0003234483548730793\n",
      "[-0.00893371]\n",
      "0.16702816\n",
      "-0.008933697856780115 0.16702815447027608\n",
      "(4198,)\n",
      "torch.Size([4198])\n",
      "0.0004160582681543845\n",
      "[0.00624644]\n",
      "0.15994097\n",
      "0.006246439878238449 0.15994096491431797\n",
      "(4197,)\n",
      "torch.Size([4197])\n",
      "0.00014356187416830757\n",
      "[-0.00197162]\n",
      "0.16619483\n",
      "-0.001971622039769208 0.16619483072803173\n",
      "(4196,)\n",
      "torch.Size([4196])\n",
      "4.2688331315599015e-05\n",
      "[-0.00058543]\n",
      "0.1651479\n",
      "-0.0005854296954247503 0.1651478901384533\n"
     ]
    },
    {
     "data": {
      "image/png": "[encoded data removed]",
      "text/plain": [
       "<Figure size 640x480 with 1 Axes>"
      ]
     },
     "metadata": {},
     "output_type": "display_data"
    }
   ],
   "source": [
    "best_score = -1\n",
    "best_i = 1\n",
    "best_reg = None\n",
    "decorrelate_variance = False\n",
    "\n",
    "\n",
    "for i in range(1, 5):\n",
    "    n = i\n",
    "\n",
    "    y = test_metrics_continuous.y_variance[n:]\n",
    "    x = np.abs(np.diff(test_metrics_continuous.y_predicted, n=n))\n",
    "    print(x.shape)\n",
    "    print(y.shape)\n",
    "    m, b = np.polyfit(x, y, 1)\n",
    "\n",
    "    plt.plot([0, 0.3], m*np.array([0, 0.3])+b, color='red')\n",
    "    \n",
    "\n",
    "    reg = LinearRegression().fit(x.reshape(-1, 1), y)\n",
    "    \n",
    "    score = reg.score(x.reshape(-1, 1), y)\n",
    "    \n",
    "    if decorrelate_variance:\n",
    "        pred_variances = reg.predict(np.abs(np.diff(test_metrics_continuous.y_predicted, n=i, prepend=[0] * i)).reshape(-1, 1))\n",
    "        test_metrics_continuous.y_variance = test_metrics_continuous.y_variance - pred_variances + pred_variances.mean()\n",
    "    \n",
    "    if score > best_score:\n",
    "        best_score = score\n",
    "        best_i = i\n",
    "        best_reg = reg\n",
    "    \n",
    "    print(score)\n",
    "    print(reg.coef_)\n",
    "    print(reg.intercept_)\n",
    "    print(m, b)\n"
   ]
  },
  {
   "cell_type": "code",
   "execution_count": 44,
   "id": "83815018-fd60-4f05-a135-4f8af26e6afb",
   "metadata": {},
   "outputs": [
    {
     "data": {
      "text/plain": [
       "0.0004160582681543845"
      ]
     },
     "execution_count": 44,
     "metadata": {},
     "output_type": "execute_result"
    }
   ],
   "source": [
    "best_score"
   ]
  },
  {
   "cell_type": "code",
   "execution_count": 45,
   "id": "cede8406-b6fb-4ca5-af44-6e63587a49bc",
   "metadata": {},
   "outputs": [
    {
     "name": "stdout",
     "output_type": "stream",
     "text": [
      "Average variance per 10ms is nan\n",
      "Average variance per 20ms is nan\n",
      "Average variance per 30ms is nan\n",
      "Average variance per 40ms is nan\n",
      "Average variance per 50ms is nan\n",
      "Average variance per 60ms is nan\n",
      "Average variance per 70ms is nan\n",
      "Average variance per 80ms is nan\n",
      "Average variance per 90ms is 0.10909513384103775\n",
      "Average variance per 100ms is 0.10927601903676987\n",
      "Average variance per 200ms is 0.10982393473386765\n",
      "Average variance per 300ms is 0.11004281789064407\n",
      "Average variance per 400ms is 0.10898574441671371\n",
      "Average variance per 500ms is 0.10975939780473709\n",
      "Average variance per 600ms is 0.10966619104146957\n",
      "Average variance per 700ms is 0.11021656543016434\n",
      "Average variance per 800ms is 0.11127062141895294\n",
      "Average variance per 900ms is 0.1110556349158287\n"
     ]
    }
   ],
   "source": [
    "for ms in range(10, 100, 10):\n",
    "\n",
    "    truncate = -(test_metrics_continuous.y_predicted.shape[0] % milliseconds_to_samples(ms))\n",
    "\n",
    "    pred_intervals = test_metrics_continuous.y_predicted[:truncate].reshape(-1, milliseconds_to_samples(ms))\n",
    "    # pred_intervals = test_metrics_continuous.y_predicted[:truncate].reshape(milliseconds_to_samples(ms), -1)\n",
    "\n",
    "    print(f\"Average variance per {ms}ms is {pred_intervals.var(axis=1).mean()}\")\n",
    "    # print(f\"Average variance per {ms}ms is {pred_intervals.var(axis=0).mean()}\")\n",
    "\n",
    "for ms in range(100, 1000, 100):\n",
    "\n",
    "    truncate = -(test_metrics_continuous.y_predicted.shape[0] % milliseconds_to_samples(ms))\n",
    "\n",
    "    pred_intervals = test_metrics_continuous.y_predicted[:truncate].reshape(-1, milliseconds_to_samples(ms))\n",
    "    # pred_intervals = test_metrics_continuous.y_predicted[:truncate].reshape(milliseconds_to_samples(ms), -1)\n",
    "\n",
    "    print(f\"Average variance per {ms}ms is {pred_intervals.var(axis=1).mean()}\")\n",
    "    # print(f\"Average variance per {ms}ms is {pred_intervals.var(axis=0).mean()}\")\n",
    "\n"
   ]
  },
  {
   "cell_type": "raw",
   "id": "cb88195f-b4bf-4e53-8f38-677b8c472217",
   "metadata": {},
   "source": [
    "# Without ICA\n",
    "Average variance per 100ms is 0.05413738638162613\n",
    "Average variance per 200ms is 0.055775608867406845\n",
    "Average variance per 300ms is 0.05633649602532387\n",
    "Average variance per 400ms is 0.056676045060157776\n",
    "Average variance per 500ms is nan\n",
    "Average variance per 600ms is 0.057157181203365326\n",
    "Average variance per 700ms is 0.0572960339486599\n",
    "Average variance per 800ms is 0.05741371214389801\n",
    "Average variance per 900ms is 0.057493891566991806\n",
    "\n",
    "# Using ICA\n",
    "Average variance per 100ms is 0.05436575412750244\n",
    "Average variance per 200ms is 0.056410182267427444\n",
    "Average variance per 300ms is 0.057149890810251236\n",
    "Average variance per 400ms is 0.05755414068698883\n",
    "Average variance per 500ms is nan\n",
    "Average variance per 600ms is 0.05805911496281624\n",
    "Average variance per 700ms is 0.05820338428020477\n",
    "Average variance per 800ms is 0.05831527337431908\n",
    "Average variance per 900ms is 0.058445364236831665\n",
    "\n",
    "# Aggresive ICA on test\n",
    "Average variance per 10ms is 0.015406740829348564\n",
    "Average variance per 20ms is 0.024159494787454605\n",
    "Average variance per 30ms is 0.029966510832309723\n",
    "Average variance per 40ms is 0.03389976918697357\n",
    "Average variance per 50ms is 0.03655417636036873\n",
    "Average variance per 60ms is 0.03801095485687256\n",
    "Average variance per 70ms is 0.038880567997694016\n",
    "Average variance per 80ms is 0.03929248824715614\n",
    "Average variance per 90ms is 0.03968144208192825\n",
    "Average variance per 100ms is 0.03978671506047249\n",
    "Average variance per 200ms is 0.04105313867330551\n",
    "Average variance per 300ms is 0.041595932096242905\n",
    "Average variance per 400ms is 0.041859209537506104\n",
    "Average variance per 500ms is nan\n",
    "Average variance per 600ms is 0.04227680712938309\n",
    "Average variance per 700ms is 0.04242834821343422\n",
    "Average variance per 800ms is 0.04251367598772049\n",
    "Average variance per 900ms is 0.042581550776958466\n",
    "\n",
    "\n",
    "# Aggressive ICA with HEOG\n",
    "Average variance per 10ms is 0.012422662228345871\n",
    "Average variance per 20ms is 0.020096879452466965\n",
    "Average variance per 30ms is 0.025289656594395638\n",
    "Average variance per 40ms is 0.02874215878546238\n",
    "Average variance per 50ms is 0.031205425038933754\n",
    "Average variance per 60ms is 0.03262072429060936\n",
    "Average variance per 70ms is 0.03339806944131851\n",
    "Average variance per 80ms is 0.03380629047751427\n",
    "Average variance per 90ms is 0.03419618681073189\n",
    "Average variance per 100ms is 0.03438768535852432\n",
    "Average variance per 200ms is 0.03578786924481392\n",
    "Average variance per 300ms is 0.03638223558664322\n",
    "Average variance per 400ms is 0.036699503660202026\n",
    "Average variance per 500ms is nan\n",
    "Average variance per 600ms is 0.03710876777768135\n",
    "Average variance per 700ms is 0.03730716183781624\n",
    "Average variance per 800ms is 0.037366971373558044\n",
    "Average variance per 900ms is 0.03742508590221405\n",
    "\n",
    "\n",
    "# Using ICA on test (with LDA classifier)\n",
    "Average variance per 10ms is 0.018165825689264076\n",
    "Average variance per 20ms is 0.026824021275337544\n",
    "Average variance per 30ms is 0.03349339456339578\n",
    "Average variance per 40ms is 0.03749539041892433\n",
    "Average variance per 50ms is 0.03976343756157308\n",
    "Average variance per 60ms is 0.04082595636806692\n",
    "Average variance per 70ms is 0.0412627550092047\n",
    "Average variance per 80ms is 0.0413747767878277\n",
    "Average variance per 90ms is 0.04136099300626829\n",
    "Average variance per 100ms is 0.04135732896176081\n",
    "Average variance per 200ms is 0.04146694783134631\n",
    "Average variance per 300ms is 0.04144454667633754\n",
    "Average variance per 400ms is 0.04143031807965444\n",
    "Average variance per 500ms is 0.04142785222980917\n",
    "Average variance per 600ms is 0.04143054786536507\n",
    "Average variance per 700ms is 0.041422024880703325\n",
    "Average variance per 800ms is 0.04141891255085929\n",
    "Average variance per 900ms is 0.04142003200080904\n",
    "\n",
    "# No ICA on LDA\n",
    "Average variance per 10ms is 0.01910144353871375\n",
    "Average variance per 20ms is 0.028776340689165292\n",
    "Average variance per 30ms is 0.036125831675869594\n",
    "Average variance per 40ms is 0.04045747068419429\n",
    "Average variance per 50ms is 0.0429856352235587\n",
    "Average variance per 60ms is 0.04436295197380263\n",
    "Average variance per 70ms is 0.044997797635089376\n",
    "Average variance per 80ms is 0.04530565192935619\n",
    "Average variance per 90ms is 0.045301714812101115\n",
    "Average variance per 100ms is 0.045313724884418746\n",
    "Average variance per 200ms is 0.04555894512176683\n",
    "Average variance per 300ms is 0.045592660193886435\n",
    "Average variance per 400ms is 0.045601476745730625\n",
    "Average variance per 500ms is 0.045618529320184814\n",
    "Average variance per 600ms is 0.045623405340782956\n",
    "Average variance per 700ms is 0.045623593420061934\n",
    "Average variance per 800ms is 0.04562833390297122\n",
    "Average variance per 900ms is 0.0456327805194841\n",
    "\n",
    "# Aggressive ICA\n",
    "Average variance per 10ms is 0.01463281622663195\n",
    "Average variance per 20ms is 0.021191121989441328\n",
    "Average variance per 30ms is 0.026080371121360784\n",
    "Average variance per 40ms is 0.02940190434938464\n",
    "Average variance per 50ms is 0.03141484309590157\n",
    "Average variance per 60ms is 0.032485068989267965\n",
    "Average variance per 70ms is 0.03291888729066937\n",
    "Average variance per 80ms is 0.033040388846976534\n",
    "Average variance per 90ms is 0.033038539378826656\n",
    "Average variance per 100ms is 0.03299469361053545\n",
    "Average variance per 200ms is 0.03306710318552464\n",
    "Average variance per 300ms is 0.033051645840105705\n",
    "Average variance per 400ms is 0.033037786565483944\n",
    "Average variance per 500ms is 0.03303357642796907\n",
    "Average variance per 600ms is 0.03302971908345692\n",
    "Average variance per 700ms is 0.03302227857279542\n",
    "Average variance per 800ms is 0.03302298364029124\n",
    "Average variance per 900ms is 0.03301561385238876\n",
    "\n",
    "\n",
    "# HEOG ICA on LDA without future-leakage\n",
    "Average variance per 10ms is 0.020793336708998866\n",
    "Average variance per 20ms is 0.029873748894738855\n",
    "Average variance per 30ms is 0.03669136603329659\n",
    "Average variance per 40ms is 0.041130563818895134\n",
    "Average variance per 50ms is 0.043903055097865545\n",
    "Average variance per 60ms is 0.045330986966586155\n",
    "Average variance per 70ms is 0.046067959509523464\n",
    "Average variance per 80ms is 0.046462956518217656\n",
    "Average variance per 90ms is 0.046636685897428774\n",
    "Average variance per 100ms is 0.046691775628905245\n",
    "Average variance per 200ms is 0.046874048832279476\n",
    "Average variance per 300ms is 0.04687252145757002\n",
    "Average variance per 400ms is 0.04685898745107678\n",
    "Average variance per 500ms is 0.046852120444255886\n",
    "Average variance per 600ms is 0.046852154814021586\n",
    "Average variance per 700ms is 0.046843369627674054\n",
    "Average variance per 800ms is 0.04684067279389882\n",
    "Average variance per 900ms is 0.04683455535254375\n",
    "\n",
    "The idea was that ICA would make the model behave more consistenly, but this is not the case. \n",
    "We see that variance in the prediction is slightly up, but we would've thought it'd be more stable."
   ]
  },
  {
   "cell_type": "code",
   "execution_count": null,
   "id": "20dd97fe-27ec-46f4-a05e-81eb852a1ca9",
   "metadata": {},
   "outputs": [],
   "source": []
  },
  {
   "cell_type": "code",
   "execution_count": 46,
   "id": "12ba89be-359a-414a-b65b-0edec4f32ba8",
   "metadata": {},
   "outputs": [
    {
     "data": {
      "text/plain": [
       "tensor([3.7802e-01, 3.0859e-02, 6.9330e-02,  ..., 2.1972e-04, 9.4899e-04,\n",
       "        1.0334e-01])"
      ]
     },
     "execution_count": 46,
     "metadata": {},
     "output_type": "execute_result"
    }
   ],
   "source": [
    "test_metrics_continuous.y_variance"
   ]
  },
  {
   "cell_type": "code",
   "execution_count": 47,
   "id": "d8021aa4-1c3a-4647-8678-cdde61986dc9",
   "metadata": {},
   "outputs": [
    {
     "data": {
      "text/plain": [
       "torch.Size([4200])"
      ]
     },
     "execution_count": 47,
     "metadata": {},
     "output_type": "execute_result"
    }
   ],
   "source": [
    "test_metrics_continuous.y_subj_idx.shape"
   ]
  },
  {
   "cell_type": "code",
   "execution_count": 48,
   "id": "a975918b-0602-49fa-b0b3-2b057f5f1799",
   "metadata": {},
   "outputs": [
    {
     "name": "stdout",
     "output_type": "stream",
     "text": [
      "tensor(4200)\n"
     ]
    }
   ],
   "source": [
    "print(test_metrics_continuous.y_in_distribution.sum())\n"
   ]
  },
  {
   "cell_type": "code",
   "execution_count": 49,
   "id": "d990e50e-9aba-4897-a8db-15ec83ec54d4",
   "metadata": {},
   "outputs": [
    {
     "data": {
      "text/plain": [
       "tensor([6.0839e-01, 9.8491e-01, 9.4929e-01,  ..., 1.8531e-04, 7.5708e-04,\n",
       "        9.4003e-01])"
      ]
     },
     "execution_count": 49,
     "metadata": {},
     "output_type": "execute_result"
    }
   ],
   "source": [
    "test_metrics_continuous.y_predicted"
   ]
  },
  {
   "cell_type": "code",
   "execution_count": 50,
   "id": "e5809b12-e3bd-4669-b945-4a5def3603e1",
   "metadata": {},
   "outputs": [
    {
     "data": {
      "text/plain": [
       "torch.Size([4200])"
      ]
     },
     "execution_count": 50,
     "metadata": {},
     "output_type": "execute_result"
    }
   ],
   "source": [
    "test_metrics_continuous.y_variance.shape"
   ]
  },
  {
   "cell_type": "code",
   "execution_count": 51,
   "id": "404a837e-3ece-43f4-87cd-6b7b0b491498",
   "metadata": {},
   "outputs": [
    {
     "name": "stdout",
     "output_type": "stream",
     "text": [
      "tensor(718)\n",
      "tensor(733)\n",
      "tensor(647)\n",
      "tensor(690)\n",
      "tensor(725)\n",
      "tensor(687)\n",
      "tensor(4200)\n",
      "torch.Size([4200])\n"
     ]
    }
   ],
   "source": [
    "for i in range(1, 7):\n",
    "    print((test_metrics_continuous.y_subj_idx == i).sum())\n",
    "print(test_metrics_continuous.y_in_distribution.sum())\n",
    "print(test_metrics_continuous.y_predicted.shape)"
   ]
  },
  {
   "cell_type": "code",
   "execution_count": 52,
   "id": "aa6dc324-9bdc-421c-9748-065f44ed6609",
   "metadata": {},
   "outputs": [],
   "source": [
    "continues_true_rate = 1\n",
    "\n",
    "if continues_true_rate > 1:\n",
    "    test_metrics_continuous.y_predicted = test_metrics_continuous.y_predicted.reshape(-1, continues_true_rate).max(axis=1).values\n",
    "    test_metrics_continuous.y_true = test_metrics_continuous.y_true.reshape(-1, continues_true_rate).min(axis=1).values\n",
    "    test_metrics_continuous.y_in_distribution = test_metrics_continuous.y_in_distribution.reshape(-1, continues_true_rate).max(axis=1).values\n",
    "    test_metrics_continuous.y_subj_idx = test_metrics_continuous.y_subj_idx.reshape(-1, continues_true_rate)[:, 0]\n",
    "    test_metrics_continuous.y_variance = test_metrics_continuous.y_variance.reshape(-1, continues_true_rate).mean(axis=1)\n",
    "\n"
   ]
  },
  {
   "cell_type": "code",
   "execution_count": 53,
   "id": "3ed8460a-f4f9-4db4-ae85-a955ab517911",
   "metadata": {},
   "outputs": [
    {
     "name": "stdout",
     "output_type": "stream",
     "text": [
      "tensor(4200)\n",
      "torch.Size([4200])\n"
     ]
    }
   ],
   "source": [
    "print(test_metrics_continuous.y_in_distribution.sum())\n",
    "print(test_metrics_continuous.y_predicted.shape)"
   ]
  },
  {
   "cell_type": "code",
   "execution_count": 54,
   "id": "fc15346c-d948-47b3-94ea-1ca464d76fc7",
   "metadata": {},
   "outputs": [],
   "source": [
    "test_metrics_continuous.y_in_distribution = test_metrics_continuous.y_in_distribution.type('torch.BoolTensor')"
   ]
  },
  {
   "cell_type": "code",
   "execution_count": 55,
   "id": "02e63bad-a1e7-4199-bb79-feb9f9afcd23",
   "metadata": {},
   "outputs": [
    {
     "data": {
      "text/plain": [
       "tensor([True, True, True,  ..., True, True, True])"
      ]
     },
     "execution_count": 55,
     "metadata": {},
     "output_type": "execute_result"
    }
   ],
   "source": [
    "test_metrics_continuous.y_in_distribution"
   ]
  },
  {
   "cell_type": "code",
   "execution_count": 56,
   "id": "beaedc59-a799-42a6-a48f-a3779ddbb23e",
   "metadata": {},
   "outputs": [
    {
     "name": "stdout",
     "output_type": "stream",
     "text": [
      "tensor(718)\n",
      "tensor(733)\n",
      "tensor(647)\n",
      "tensor(690)\n",
      "tensor(725)\n",
      "tensor(687)\n"
     ]
    }
   ],
   "source": [
    "for i in range(1, 7):\n",
    "    print((test_metrics_continuous.y_subj_idx == i).sum())\n"
   ]
  },
  {
   "cell_type": "code",
   "execution_count": 57,
   "id": "24535a93-f705-4b2c-a726-7a7141e662d5",
   "metadata": {},
   "outputs": [
    {
     "data": {
      "text/plain": [
       "['y_true',\n",
       " 'y_predicted',\n",
       " 'y_variance',\n",
       " 'y_epi_uncertainty',\n",
       " 'y_ale_uncertainty',\n",
       " 'y_in_distribution',\n",
       " 'y_subj_idx']"
      ]
     },
     "execution_count": 57,
     "metadata": {},
     "output_type": "execute_result"
    }
   ],
   "source": [
    "[field.name for field in fields(test_metrics_continuous)]"
   ]
  },
  {
   "cell_type": "code",
   "execution_count": 58,
   "id": "14baec7f-70fa-47f6-b97c-96ea5197fbaa",
   "metadata": {},
   "outputs": [
    {
     "data": {
      "text/plain": [
       "0.7088095238095238"
      ]
     },
     "execution_count": 58,
     "metadata": {},
     "output_type": "execute_result"
    }
   ],
   "source": [
    "(abs(test_metrics_continuous.y_predicted - test_metrics_continuous.y_true) < 0.5).numpy().mean()"
   ]
  },
  {
   "cell_type": "code",
   "execution_count": 59,
   "id": "95a3af13-e6d0-4bc5-9ec1-af4b9efbe40b",
   "metadata": {},
   "outputs": [
    {
     "data": {
      "text/plain": [
       "0.7088095238095238"
      ]
     },
     "execution_count": 59,
     "metadata": {},
     "output_type": "execute_result"
    }
   ],
   "source": [
    "(abs(test_metrics_continuous.y_predicted - test_metrics_continuous.y_true) < 0.5)[test_metrics_continuous.y_in_distribution].numpy().mean()"
   ]
  },
  {
   "cell_type": "code",
   "execution_count": 60,
   "id": "bf2a856c-3c50-4a3a-810f-236d405ae11e",
   "metadata": {},
   "outputs": [],
   "source": [
    "event_indices = np.where(test_metrics_continuous.y_in_distribution.numpy())"
   ]
  },
  {
   "cell_type": "code",
   "execution_count": 61,
   "id": "7d39c4b2-a9bc-499e-a487-47ef3c4ce357",
   "metadata": {},
   "outputs": [
    {
     "data": {
      "text/plain": [
       "1.0"
      ]
     },
     "execution_count": 61,
     "metadata": {},
     "output_type": "execute_result"
    }
   ],
   "source": [
    "test_metrics_continuous.y_in_distribution.numpy().mean()"
   ]
  },
  {
   "cell_type": "code",
   "execution_count": 62,
   "id": "605e0980-0fc5-48ad-bdd5-be717c827249",
   "metadata": {},
   "outputs": [],
   "source": [
    "y_true_id = 1 - test_metrics_continuous.y_true.clone().double()\n",
    "y_true_id[~test_metrics_continuous.y_in_distribution] = 0.5"
   ]
  },
  {
   "cell_type": "code",
   "execution_count": 63,
   "id": "3f69461a-60da-4fe0-a72b-0f7136e92fa8",
   "metadata": {},
   "outputs": [
    {
     "data": {
      "text/plain": [
       "tensor(0.4867, dtype=torch.float64)"
      ]
     },
     "execution_count": 63,
     "metadata": {},
     "output_type": "execute_result"
    }
   ],
   "source": [
    "y_true_id[test_metrics_continuous.y_in_distribution].mean()"
   ]
  },
  {
   "cell_type": "code",
   "execution_count": 64,
   "id": "ebac9f78-ddb8-422d-ba3d-bc87e9ce19fc",
   "metadata": {},
   "outputs": [
    {
     "data": {
      "text/plain": [
       "tensor(0)"
      ]
     },
     "execution_count": 64,
     "metadata": {},
     "output_type": "execute_result"
    }
   ],
   "source": [
    "(~test_metrics_continuous.y_in_distribution).sum()"
   ]
  },
  {
   "cell_type": "code",
   "execution_count": 65,
   "id": "90b05289-4958-4cae-b96a-56062317ac46",
   "metadata": {},
   "outputs": [
    {
     "data": {
      "text/plain": [
       "torch.Size([4200])"
      ]
     },
     "execution_count": 65,
     "metadata": {},
     "output_type": "execute_result"
    }
   ],
   "source": [
    "test_metrics_continuous.y_true.shape"
   ]
  },
  {
   "cell_type": "code",
   "execution_count": 66,
   "id": "60c6390f-cee8-4e06-a12a-1928cd6f341d",
   "metadata": {
    "tags": []
   },
   "outputs": [
    {
     "name": "stdout",
     "output_type": "stream",
     "text": [
      "tensor(0)\n",
      "tensor(0)\n",
      "tensor(0)\n",
      "tensor(0)\n",
      "tensor(0)\n",
      "tensor(0)\n",
      "tensor(0)\n",
      "tensor(0)\n",
      "tensor(0)\n",
      "tensor(0)\n",
      "tensor(0)\n",
      "tensor(1)\n"
     ]
    },
    {
     "ename": "ValueError",
     "evalue": "x and y must have same first dimension, but have shapes (81,) and torch.Size([0])",
     "output_type": "error",
     "traceback": [
      "\u001b[0;31m---------------------------------------------------------------------------\u001b[0m",
      "\u001b[0;31mValueError\u001b[0m                                Traceback (most recent call last)",
      "Cell \u001b[0;32mIn[66], line 25\u001b[0m\n\u001b[1;32m     23\u001b[0m     plt\u001b[38;5;241m.\u001b[39mplot(x, test_metrics_continuous\u001b[38;5;241m.\u001b[39my_epi_uncertainty[event_indices[\u001b[38;5;241m0\u001b[39m][event_index] \u001b[38;5;241m+\u001b[39m lower_window: event_indices[\u001b[38;5;241m0\u001b[39m][event_index] \u001b[38;5;241m+\u001b[39m upper_window], label\u001b[38;5;241m=\u001b[39m\u001b[38;5;124m\"\u001b[39m\u001b[38;5;124mepi\u001b[39m\u001b[38;5;124m\"\u001b[39m)\n\u001b[1;32m     24\u001b[0m \u001b[38;5;28;01melse\u001b[39;00m:\n\u001b[0;32m---> 25\u001b[0m     \u001b[43mplt\u001b[49m\u001b[38;5;241;43m.\u001b[39;49m\u001b[43mplot\u001b[49m\u001b[43m(\u001b[49m\u001b[43mx\u001b[49m\u001b[43m,\u001b[49m\u001b[43m \u001b[49m\u001b[43mtest_metrics_continuous\u001b[49m\u001b[38;5;241;43m.\u001b[39;49m\u001b[43my_variance\u001b[49m\u001b[43m[\u001b[49m\u001b[43mevent_indices\u001b[49m\u001b[43m[\u001b[49m\u001b[38;5;241;43m0\u001b[39;49m\u001b[43m]\u001b[49m\u001b[43m[\u001b[49m\u001b[43mevent_index\u001b[49m\u001b[43m]\u001b[49m\u001b[43m \u001b[49m\u001b[38;5;241;43m+\u001b[39;49m\u001b[43m \u001b[49m\u001b[43mlower_window\u001b[49m\u001b[43m:\u001b[49m\u001b[43m \u001b[49m\u001b[43mevent_indices\u001b[49m\u001b[43m[\u001b[49m\u001b[38;5;241;43m0\u001b[39;49m\u001b[43m]\u001b[49m\u001b[43m[\u001b[49m\u001b[43mevent_index\u001b[49m\u001b[43m]\u001b[49m\u001b[43m \u001b[49m\u001b[38;5;241;43m+\u001b[39;49m\u001b[43m \u001b[49m\u001b[43mupper_window\u001b[49m\u001b[43m]\u001b[49m\u001b[43m,\u001b[49m\u001b[43m \u001b[49m\u001b[43mlabel\u001b[49m\u001b[38;5;241;43m=\u001b[39;49m\u001b[38;5;124;43m\"\u001b[39;49m\u001b[38;5;124;43mUncertainty\u001b[39;49m\u001b[38;5;124;43m\"\u001b[39;49m\u001b[43m)\u001b[49m\n\u001b[1;32m     26\u001b[0m plt\u001b[38;5;241m.\u001b[39mplot(x, \u001b[38;5;241m1\u001b[39m \u001b[38;5;241m-\u001b[39m test_metrics_continuous\u001b[38;5;241m.\u001b[39my_predicted[event_indices[\u001b[38;5;241m0\u001b[39m][event_index] \u001b[38;5;241m+\u001b[39m lower_window: event_indices[\u001b[38;5;241m0\u001b[39m][event_index] \u001b[38;5;241m+\u001b[39m upper_window], label\u001b[38;5;241m=\u001b[39m\u001b[38;5;124m\"\u001b[39m\u001b[38;5;124mPrediction\u001b[39m\u001b[38;5;124m\"\u001b[39m)\n\u001b[1;32m     28\u001b[0m plt\u001b[38;5;241m.\u001b[39mxlabel(\u001b[38;5;124m\"\u001b[39m\u001b[38;5;124mMilliseconds\u001b[39m\u001b[38;5;124m\"\u001b[39m)\n",
      "File \u001b[0;32m~/.local/share/virtualenvs/Error-perception-classification-in-BCI-usi-IO2CUxHQ/lib/python3.9/site-packages/matplotlib/pyplot.py:2740\u001b[0m, in \u001b[0;36mplot\u001b[0;34m(scalex, scaley, data, *args, **kwargs)\u001b[0m\n\u001b[1;32m   2738\u001b[0m \u001b[38;5;129m@_copy_docstring_and_deprecators\u001b[39m(Axes\u001b[38;5;241m.\u001b[39mplot)\n\u001b[1;32m   2739\u001b[0m \u001b[38;5;28;01mdef\u001b[39;00m \u001b[38;5;21mplot\u001b[39m(\u001b[38;5;241m*\u001b[39margs, scalex\u001b[38;5;241m=\u001b[39m\u001b[38;5;28;01mTrue\u001b[39;00m, scaley\u001b[38;5;241m=\u001b[39m\u001b[38;5;28;01mTrue\u001b[39;00m, data\u001b[38;5;241m=\u001b[39m\u001b[38;5;28;01mNone\u001b[39;00m, \u001b[38;5;241m*\u001b[39m\u001b[38;5;241m*\u001b[39mkwargs):\n\u001b[0;32m-> 2740\u001b[0m     \u001b[38;5;28;01mreturn\u001b[39;00m \u001b[43mgca\u001b[49m\u001b[43m(\u001b[49m\u001b[43m)\u001b[49m\u001b[38;5;241;43m.\u001b[39;49m\u001b[43mplot\u001b[49m\u001b[43m(\u001b[49m\n\u001b[1;32m   2741\u001b[0m \u001b[43m        \u001b[49m\u001b[38;5;241;43m*\u001b[39;49m\u001b[43margs\u001b[49m\u001b[43m,\u001b[49m\u001b[43m \u001b[49m\u001b[43mscalex\u001b[49m\u001b[38;5;241;43m=\u001b[39;49m\u001b[43mscalex\u001b[49m\u001b[43m,\u001b[49m\u001b[43m \u001b[49m\u001b[43mscaley\u001b[49m\u001b[38;5;241;43m=\u001b[39;49m\u001b[43mscaley\u001b[49m\u001b[43m,\u001b[49m\n\u001b[1;32m   2742\u001b[0m \u001b[43m        \u001b[49m\u001b[38;5;241;43m*\u001b[39;49m\u001b[38;5;241;43m*\u001b[39;49m\u001b[43m(\u001b[49m\u001b[43m{\u001b[49m\u001b[38;5;124;43m\"\u001b[39;49m\u001b[38;5;124;43mdata\u001b[39;49m\u001b[38;5;124;43m\"\u001b[39;49m\u001b[43m:\u001b[49m\u001b[43m \u001b[49m\u001b[43mdata\u001b[49m\u001b[43m}\u001b[49m\u001b[43m \u001b[49m\u001b[38;5;28;43;01mif\u001b[39;49;00m\u001b[43m \u001b[49m\u001b[43mdata\u001b[49m\u001b[43m \u001b[49m\u001b[38;5;129;43;01mis\u001b[39;49;00m\u001b[43m \u001b[49m\u001b[38;5;129;43;01mnot\u001b[39;49;00m\u001b[43m \u001b[49m\u001b[38;5;28;43;01mNone\u001b[39;49;00m\u001b[43m \u001b[49m\u001b[38;5;28;43;01melse\u001b[39;49;00m\u001b[43m \u001b[49m\u001b[43m{\u001b[49m\u001b[43m}\u001b[49m\u001b[43m)\u001b[49m\u001b[43m,\u001b[49m\u001b[43m \u001b[49m\u001b[38;5;241;43m*\u001b[39;49m\u001b[38;5;241;43m*\u001b[39;49m\u001b[43mkwargs\u001b[49m\u001b[43m)\u001b[49m\n",
      "File \u001b[0;32m~/.local/share/virtualenvs/Error-perception-classification-in-BCI-usi-IO2CUxHQ/lib/python3.9/site-packages/matplotlib/axes/_axes.py:1662\u001b[0m, in \u001b[0;36mAxes.plot\u001b[0;34m(self, scalex, scaley, data, *args, **kwargs)\u001b[0m\n\u001b[1;32m   1419\u001b[0m \u001b[38;5;250m\u001b[39m\u001b[38;5;124;03m\"\"\"\u001b[39;00m\n\u001b[1;32m   1420\u001b[0m \u001b[38;5;124;03mPlot y versus x as lines and/or markers.\u001b[39;00m\n\u001b[1;32m   1421\u001b[0m \n\u001b[0;32m   (...)\u001b[0m\n\u001b[1;32m   1659\u001b[0m \u001b[38;5;124;03m(``'green'``) or hex strings (``'#008000'``).\u001b[39;00m\n\u001b[1;32m   1660\u001b[0m \u001b[38;5;124;03m\"\"\"\u001b[39;00m\n\u001b[1;32m   1661\u001b[0m kwargs \u001b[38;5;241m=\u001b[39m cbook\u001b[38;5;241m.\u001b[39mnormalize_kwargs(kwargs, mlines\u001b[38;5;241m.\u001b[39mLine2D)\n\u001b[0;32m-> 1662\u001b[0m lines \u001b[38;5;241m=\u001b[39m [\u001b[38;5;241m*\u001b[39m\u001b[38;5;28mself\u001b[39m\u001b[38;5;241m.\u001b[39m_get_lines(\u001b[38;5;241m*\u001b[39margs, data\u001b[38;5;241m=\u001b[39mdata, \u001b[38;5;241m*\u001b[39m\u001b[38;5;241m*\u001b[39mkwargs)]\n\u001b[1;32m   1663\u001b[0m \u001b[38;5;28;01mfor\u001b[39;00m line \u001b[38;5;129;01min\u001b[39;00m lines:\n\u001b[1;32m   1664\u001b[0m     \u001b[38;5;28mself\u001b[39m\u001b[38;5;241m.\u001b[39madd_line(line)\n",
      "File \u001b[0;32m~/.local/share/virtualenvs/Error-perception-classification-in-BCI-usi-IO2CUxHQ/lib/python3.9/site-packages/matplotlib/axes/_base.py:311\u001b[0m, in \u001b[0;36m_process_plot_var_args.__call__\u001b[0;34m(self, data, *args, **kwargs)\u001b[0m\n\u001b[1;32m    309\u001b[0m     this \u001b[38;5;241m+\u001b[39m\u001b[38;5;241m=\u001b[39m args[\u001b[38;5;241m0\u001b[39m],\n\u001b[1;32m    310\u001b[0m     args \u001b[38;5;241m=\u001b[39m args[\u001b[38;5;241m1\u001b[39m:]\n\u001b[0;32m--> 311\u001b[0m \u001b[38;5;28;01myield from\u001b[39;00m \u001b[38;5;28;43mself\u001b[39;49m\u001b[38;5;241;43m.\u001b[39;49m\u001b[43m_plot_args\u001b[49m\u001b[43m(\u001b[49m\n\u001b[1;32m    312\u001b[0m \u001b[43m    \u001b[49m\u001b[43mthis\u001b[49m\u001b[43m,\u001b[49m\u001b[43m \u001b[49m\u001b[43mkwargs\u001b[49m\u001b[43m,\u001b[49m\u001b[43m \u001b[49m\u001b[43mambiguous_fmt_datakey\u001b[49m\u001b[38;5;241;43m=\u001b[39;49m\u001b[43mambiguous_fmt_datakey\u001b[49m\u001b[43m)\u001b[49m\n",
      "File \u001b[0;32m~/.local/share/virtualenvs/Error-perception-classification-in-BCI-usi-IO2CUxHQ/lib/python3.9/site-packages/matplotlib/axes/_base.py:504\u001b[0m, in \u001b[0;36m_process_plot_var_args._plot_args\u001b[0;34m(self, tup, kwargs, return_kwargs, ambiguous_fmt_datakey)\u001b[0m\n\u001b[1;32m    501\u001b[0m     \u001b[38;5;28mself\u001b[39m\u001b[38;5;241m.\u001b[39maxes\u001b[38;5;241m.\u001b[39myaxis\u001b[38;5;241m.\u001b[39mupdate_units(y)\n\u001b[1;32m    503\u001b[0m \u001b[38;5;28;01mif\u001b[39;00m x\u001b[38;5;241m.\u001b[39mshape[\u001b[38;5;241m0\u001b[39m] \u001b[38;5;241m!=\u001b[39m y\u001b[38;5;241m.\u001b[39mshape[\u001b[38;5;241m0\u001b[39m]:\n\u001b[0;32m--> 504\u001b[0m     \u001b[38;5;28;01mraise\u001b[39;00m \u001b[38;5;167;01mValueError\u001b[39;00m(\u001b[38;5;124mf\u001b[39m\u001b[38;5;124m\"\u001b[39m\u001b[38;5;124mx and y must have same first dimension, but \u001b[39m\u001b[38;5;124m\"\u001b[39m\n\u001b[1;32m    505\u001b[0m                      \u001b[38;5;124mf\u001b[39m\u001b[38;5;124m\"\u001b[39m\u001b[38;5;124mhave shapes \u001b[39m\u001b[38;5;132;01m{\u001b[39;00mx\u001b[38;5;241m.\u001b[39mshape\u001b[38;5;132;01m}\u001b[39;00m\u001b[38;5;124m and \u001b[39m\u001b[38;5;132;01m{\u001b[39;00my\u001b[38;5;241m.\u001b[39mshape\u001b[38;5;132;01m}\u001b[39;00m\u001b[38;5;124m\"\u001b[39m)\n\u001b[1;32m    506\u001b[0m \u001b[38;5;28;01mif\u001b[39;00m x\u001b[38;5;241m.\u001b[39mndim \u001b[38;5;241m>\u001b[39m \u001b[38;5;241m2\u001b[39m \u001b[38;5;129;01mor\u001b[39;00m y\u001b[38;5;241m.\u001b[39mndim \u001b[38;5;241m>\u001b[39m \u001b[38;5;241m2\u001b[39m:\n\u001b[1;32m    507\u001b[0m     \u001b[38;5;28;01mraise\u001b[39;00m \u001b[38;5;167;01mValueError\u001b[39;00m(\u001b[38;5;124mf\u001b[39m\u001b[38;5;124m\"\u001b[39m\u001b[38;5;124mx and y can be no greater than 2D, but have \u001b[39m\u001b[38;5;124m\"\u001b[39m\n\u001b[1;32m    508\u001b[0m                      \u001b[38;5;124mf\u001b[39m\u001b[38;5;124m\"\u001b[39m\u001b[38;5;124mshapes \u001b[39m\u001b[38;5;132;01m{\u001b[39;00mx\u001b[38;5;241m.\u001b[39mshape\u001b[38;5;132;01m}\u001b[39;00m\u001b[38;5;124m and \u001b[39m\u001b[38;5;132;01m{\u001b[39;00my\u001b[38;5;241m.\u001b[39mshape\u001b[38;5;132;01m}\u001b[39;00m\u001b[38;5;124m\"\u001b[39m)\n",
      "\u001b[0;31mValueError\u001b[0m: x and y must have same first dimension, but have shapes (81,) and torch.Size([0])"
     ]
    },
    {
     "data": {
      "image/png": "[encoded data removed]",
      "text/plain": [
       "<Figure size 640x480 with 1 Axes>"
      ]
     },
     "metadata": {},
     "output_type": "display_data"
    }
   ],
   "source": [
    "lower_window_ms = -600\n",
    "upper_window_ms = 1000\n",
    "lower_window = int(milliseconds_to_samples(lower_window_ms) / undersampling_interval )\n",
    "upper_window = int(milliseconds_to_samples(upper_window_ms) / undersampling_interval )\n",
    "event_index = 1\n",
    "disentangle_uncertainty = False\n",
    "\n",
    "x = [samples_to_milliseconds(step) * undersampling_interval for step in range(lower_window, upper_window)]\n",
    "\n",
    "# for event_index in range(len(event_indices[0])):\n",
    "for event_index in range(50):\n",
    "    y_true = 1 - (test_metrics_continuous.y_true[event_indices[0][event_index]])\n",
    "    print(y_true)\n",
    "    \n",
    "    if not y_true:\n",
    "        continue\n",
    "\n",
    "    color = \"green\" if y_true else \"red\"\n",
    "\n",
    "    \n",
    "    if disentangle_uncertainty:\n",
    "        plt.plot(x, test_metrics_continuous.y_ale_uncertainty[event_indices[0][event_index] + lower_window: event_indices[0][event_index] + upper_window], label=\"ale\")\n",
    "        plt.plot(x, test_metrics_continuous.y_epi_uncertainty[event_indices[0][event_index] + lower_window: event_indices[0][event_index] + upper_window], label=\"epi\")\n",
    "    else:\n",
    "        plt.plot(x, test_metrics_continuous.y_variance[event_indices[0][event_index] + lower_window: event_indices[0][event_index] + upper_window], label=\"Uncertainty\")\n",
    "    plt.plot(x, 1 - test_metrics_continuous.y_predicted[event_indices[0][event_index] + lower_window: event_indices[0][event_index] + upper_window], label=\"Prediction\")\n",
    "\n",
    "    plt.xlabel(\"Milliseconds\")\n",
    "    plt.ylabel(\"Variance/prediction\")\n",
    "    plt.legend()\n",
    "    # plt.vlines([-50, 0, 50], ymin=0, ymax=1, color=[color])\n",
    "    plt.plot(x, y_true_id[event_indices[0][event_index] + lower_window: event_indices[0][event_index] + upper_window], label=\"Truth\")\n",
    "    plt.ylim(0, 1)\n",
    "\n",
    "    plt.show()"
   ]
  },
  {
   "cell_type": "code",
   "execution_count": 67,
   "id": "b82748ae-050b-4949-a364-118cfda09557",
   "metadata": {},
   "outputs": [
    {
     "data": {
      "text/plain": [
       "tensor(nan)"
      ]
     },
     "execution_count": 67,
     "metadata": {},
     "output_type": "execute_result"
    }
   ],
   "source": [
    "test_metrics_continuous.y_variance[~test_metrics_continuous.y_in_distribution].mean()"
   ]
  },
  {
   "cell_type": "code",
   "execution_count": 68,
   "id": "568eaffc-df2a-4a32-873b-4550432961d2",
   "metadata": {},
   "outputs": [
    {
     "data": {
      "text/plain": [
       "tensor(0.1639)"
      ]
     },
     "execution_count": 68,
     "metadata": {},
     "output_type": "execute_result"
    }
   ],
   "source": [
    "test_metrics_continuous.y_variance[test_metrics_continuous.y_in_distribution].mean()"
   ]
  },
  {
   "cell_type": "code",
   "execution_count": 69,
   "id": "6c0a8273-1a9e-4a94-bfbf-e0a9c09ba5d0",
   "metadata": {},
   "outputs": [],
   "source": [
    "def make_average_around_event(metrics, lower_window_ms, upper_window_ms, undersampling=undersampling_interval, y_to_plot=None, label_prefix=\"\"):\n",
    "    undersampling = undersampling * continues_true_rate\n",
    "\n",
    "    lower_window = int(milliseconds_to_samples(lower_window_ms) / undersampling )\n",
    "    upper_window = int(milliseconds_to_samples(upper_window_ms) / undersampling )\n",
    "\n",
    "\n",
    "    x = [samples_to_milliseconds(step) * undersampling for step in range(lower_window, upper_window)]\n",
    "\n",
    "    y_true_id = 1 - metrics.y_true.clone().double()\n",
    "    y_true_id[~metrics.y_in_distribution] = 0.5\n",
    "    \n",
    "    event_indices = np.where(metrics.y_in_distribution.numpy())\n",
    "\n",
    "    y_variances = []\n",
    "    y_predictions = []\n",
    "    y_trues = []\n",
    "    y_subj = []\n",
    "    y_ales = []\n",
    "    y_epis = []\n",
    "    for event_index in range(len(event_indices[0])):\n",
    "        y_true = 1 - (metrics.y_true[event_indices[0][event_index]])\n",
    "        # print(y_true)\n",
    "\n",
    "        if y_to_plot != None and y_to_plot != y_true:\n",
    "            continue\n",
    "\n",
    "        color = \"green\" if y_true else \"red\"\n",
    "\n",
    "        y_subj.append(metrics.y_subj_idx[event_indices[0][event_index] + lower_window: event_indices[0][event_index] + upper_window])\n",
    "        y_variances.append(metrics.y_variance[event_indices[0][event_index] + lower_window: event_indices[0][event_index] + upper_window])\n",
    "        y_predictions.append(1 - metrics.y_predicted[event_indices[0][event_index] + lower_window: event_indices[0][event_index] + upper_window])\n",
    "        y_trues.append(y_true_id[event_indices[0][event_index] + lower_window: event_indices[0][event_index] + upper_window])\n",
    "        \n",
    "        if disentangle_uncertainty:\n",
    "            y_ales.append(metrics.y_ale_uncertainty[event_indices[0][event_index] + lower_window: event_indices[0][event_index] + upper_window])\n",
    "            y_epis.append(metrics.y_epi_uncertainty[event_indices[0][event_index] + lower_window: event_indices[0][event_index] + upper_window])\n",
    "\n",
    "\n",
    "    \n",
    "    stacked_subjects = torch.vstack(y_subj)\n",
    "    stacked_variances = torch.vstack(y_variances)\n",
    "    stacked_predictions = torch.vstack(y_predictions)\n",
    "    stacked_trues = torch.vstack(y_trues)\n",
    "    \n",
    "    if disentangle_uncertainty:\n",
    "        stacked_ales = torch.vstack(y_ales)\n",
    "        stacked_epis = torch.vstack(y_epis)\n",
    "\n",
    "    predictions_per_participant = []\n",
    "    variances_per_participant = []\n",
    "    ales_per_participant = []\n",
    "    epis_per_participant = []\n",
    "    trues_per_participant = []\n",
    "\n",
    "    for i in range(1, 7):\n",
    "        predictions_per_participant.append(stacked_predictions[stacked_subjects == i].reshape(-1, stacked_subjects.shape[1]).mean(axis=0))\n",
    "        variances_per_participant.append(stacked_variances[stacked_subjects == i].reshape(-1, stacked_subjects.shape[1]).mean(axis=0))\n",
    "        trues_per_participant.append(stacked_trues[stacked_subjects == i].reshape(-1, stacked_subjects.shape[1]).mean(axis=0))\n",
    "        \n",
    "        if disentangle_uncertainty:\n",
    "            ales_per_participant.append(stacked_ales[stacked_subjects == i].reshape(-1, stacked_subjects.shape[1]).mean(axis=0))\n",
    "            epis_per_participant.append(stacked_epis[stacked_subjects == i].reshape(-1, stacked_subjects.shape[1]).mean(axis=0))\n",
    "\n",
    "    avg_variances = torch.vstack(variances_per_participant).mean(axis=0)\n",
    "    std_variances = torch.vstack(variances_per_participant).std(axis=0)\n",
    "\n",
    "    avg_predictions = torch.vstack(predictions_per_participant).mean(axis=0)\n",
    "    std_predictions = torch.vstack(predictions_per_participant).std(axis=0)\n",
    "\n",
    "    avg_trues = torch.vstack(trues_per_participant).mean(axis=0)\n",
    "    std_trues = torch.vstack(trues_per_participant).std(axis=0)\n",
    "    \n",
    "    if disentangle_uncertainty:\n",
    "        avg_ales = torch.vstack(ales_per_participant).mean(axis=0)\n",
    "        std_ales = torch.vstack(ales_per_participant).std(axis=0)\n",
    "        \n",
    "        avg_epis = torch.vstack(epis_per_participant).mean(axis=0)\n",
    "        std_epis = torch.vstack(epis_per_participant).std(axis=0)\n",
    "\n",
    "\n",
    "    \n",
    "    if disentangle_uncertainty:\n",
    "        plt.plot(x, avg_ales, label=f\"{label_prefix}aleatoric\")\n",
    "        plt.fill_between(x, avg_ales - std_ales, avg_ales + std_ales , label=f\"_{label_prefix}aleatoric\", alpha=0.1)\n",
    "        \n",
    "        plt.plot(x, avg_epis, label=f\"{label_prefix}epistemic\")\n",
    "        plt.fill_between(x, avg_epis - std_epis, avg_epis + std_epis , label=f\"_{label_prefix}epistemic\", alpha=0.1)\n",
    "        \n",
    "\n",
    "    else:\n",
    "        plt.plot(x, avg_variances, label=f\"{label_prefix}Uncertainty\")\n",
    "        plt.fill_between(x, avg_variances - std_variances, avg_variances + std_variances , label=f\"_{label_prefix}Variances\", alpha=0.1)\n",
    "        \n",
    "\n",
    "\n",
    "    plt.plot(x, avg_predictions, label=f\"{label_prefix}Predictions\")\n",
    "    plt.fill_between(x, avg_predictions - std_predictions, avg_predictions + std_predictions , label=f\"_{label_prefix}Predictions\", alpha=0.1)\n",
    "\n",
    "    plt.plot(x, avg_trues, label=f\"{label_prefix}Truths\")\n",
    "    plt.fill_between(x, avg_trues - std_trues, avg_trues + std_trues , label=f\"_{label_prefix}Truths\", alpha=0.1)\n",
    "\n",
    "    plt.legend(fontsize=10)\n",
    "    plt.xlabel(\"Time (ms)\")\n",
    "    plt.ylabel(\"Variance / prediction\")\n",
    "    plt.ylim(0, 1)"
   ]
  },
  {
   "cell_type": "code",
   "execution_count": 70,
   "id": "2263609d-1e51-4486-9756-ca9869e3c809",
   "metadata": {},
   "outputs": [
    {
     "ename": "RuntimeError",
     "evalue": "Sizes of tensors must match except in dimension 0. Expected size 0 but got size 81 for tensor number 27 in the list.",
     "output_type": "error",
     "traceback": [
      "\u001b[0;31m---------------------------------------------------------------------------\u001b[0m",
      "\u001b[0;31mRuntimeError\u001b[0m                              Traceback (most recent call last)",
      "Cell \u001b[0;32mIn[70], line 1\u001b[0m\n\u001b[0;32m----> 1\u001b[0m \u001b[43mmake_average_around_event\u001b[49m\u001b[43m(\u001b[49m\u001b[43mtest_metrics_continuous\u001b[49m\u001b[43m,\u001b[49m\u001b[43m \u001b[49m\u001b[38;5;241;43m-\u001b[39;49m\u001b[38;5;241;43m600\u001b[39;49m\u001b[43m,\u001b[49m\u001b[43m \u001b[49m\u001b[38;5;241;43m1000\u001b[39;49m\u001b[43m,\u001b[49m\u001b[43m \u001b[49m\u001b[43my_to_plot\u001b[49m\u001b[43m \u001b[49m\u001b[38;5;241;43m=\u001b[39;49m\u001b[43m \u001b[49m\u001b[38;5;241;43m0\u001b[39;49m\u001b[43m)\u001b[49m\n\u001b[1;32m      2\u001b[0m plt\u001b[38;5;241m.\u001b[39mlegend()\n\u001b[1;32m      3\u001b[0m plt\u001b[38;5;241m.\u001b[39mshow()\n",
      "Cell \u001b[0;32mIn[69], line 41\u001b[0m, in \u001b[0;36mmake_average_around_event\u001b[0;34m(metrics, lower_window_ms, upper_window_ms, undersampling, y_to_plot, label_prefix)\u001b[0m\n\u001b[1;32m     36\u001b[0m         y_ales\u001b[38;5;241m.\u001b[39mappend(metrics\u001b[38;5;241m.\u001b[39my_ale_uncertainty[event_indices[\u001b[38;5;241m0\u001b[39m][event_index] \u001b[38;5;241m+\u001b[39m lower_window: event_indices[\u001b[38;5;241m0\u001b[39m][event_index] \u001b[38;5;241m+\u001b[39m upper_window])\n\u001b[1;32m     37\u001b[0m         y_epis\u001b[38;5;241m.\u001b[39mappend(metrics\u001b[38;5;241m.\u001b[39my_epi_uncertainty[event_indices[\u001b[38;5;241m0\u001b[39m][event_index] \u001b[38;5;241m+\u001b[39m lower_window: event_indices[\u001b[38;5;241m0\u001b[39m][event_index] \u001b[38;5;241m+\u001b[39m upper_window])\n\u001b[0;32m---> 41\u001b[0m stacked_subjects \u001b[38;5;241m=\u001b[39m \u001b[43mtorch\u001b[49m\u001b[38;5;241;43m.\u001b[39;49m\u001b[43mvstack\u001b[49m\u001b[43m(\u001b[49m\u001b[43my_subj\u001b[49m\u001b[43m)\u001b[49m\n\u001b[1;32m     42\u001b[0m stacked_variances \u001b[38;5;241m=\u001b[39m torch\u001b[38;5;241m.\u001b[39mvstack(y_variances)\n\u001b[1;32m     43\u001b[0m stacked_predictions \u001b[38;5;241m=\u001b[39m torch\u001b[38;5;241m.\u001b[39mvstack(y_predictions)\n",
      "\u001b[0;31mRuntimeError\u001b[0m: Sizes of tensors must match except in dimension 0. Expected size 0 but got size 81 for tensor number 27 in the list."
     ]
    }
   ],
   "source": [
    "make_average_around_event(test_metrics_continuous, -600, 1000, y_to_plot = 0)\n",
    "plt.legend()\n",
    "plt.show()\n",
    "make_average_around_event(test_metrics_continuous, -600, 1000, y_to_plot = 1)\n",
    "plt.legend()\n",
    "plt.show()\n",
    "make_average_around_event(test_metrics_continuous, -600, 1000, y_to_plot = None)\n",
    "plt.legend()\n",
    "plt.show()\n",
    "\n"
   ]
  },
  {
   "cell_type": "code",
   "execution_count": 32,
   "id": "99644e68-a392-49ba-a1f3-8f284c65eda3",
   "metadata": {},
   "outputs": [
    {
     "data": {
      "image/png": "[encoded data removed]",
      "text/plain": [
       "<Figure size 640x480 with 1 Axes>"
      ]
     },
     "metadata": {},
     "output_type": "display_data"
    }
   ],
   "source": [
    "make_average_around_event(test_metrics_continuous, -600, 1000, y_to_plot = 0, label_prefix=\"non-error_\")\n",
    "make_average_around_event(test_metrics_continuous, -600, 1000, y_to_plot = 1, label_prefix=\"error_\")\n",
    "plt.legend(fontsize=8)\n",
    "plt.show()"
   ]
  },
  {
   "cell_type": "code",
   "execution_count": 33,
   "id": "dddde416-f7f7-43d5-b6c1-f2ed294b9dce",
   "metadata": {},
   "outputs": [
    {
     "data": {
      "image/png": "[encoded data removed]",
      "text/plain": [
       "<Figure size 640x480 with 1 Axes>"
      ]
     },
     "metadata": {},
     "output_type": "display_data"
    }
   ],
   "source": [
    "make_average_around_event(test_metrics_continuous, -600, 1000, y_to_plot = 0, label_prefix=\"error_\")\n",
    "make_average_around_event(test_metrics_continuous, -600, 1000, y_to_plot = 1,label_prefix=\"non-error_\")\n",
    "plt.legend()\n",
    "plt.ylim(0.0, 0.03)\n",
    "plt.show()"
   ]
  },
  {
   "cell_type": "code",
   "execution_count": null,
   "id": "d807ea32-a9cc-4432-8a7c-c5e9d9856b0a",
   "metadata": {},
   "outputs": [],
   "source": [
    "# make_average_around_event(test_metrics_continuous, -3000, 10000, y_to_plot = 0, label_prefix=\"error \")\n",
    "# make_average_around_event(test_metrics_continuous, -3000, 10000, y_to_plot = 1, label_prefix=\"non-error \")\n",
    "# plt.legend()\n",
    "# plt.show()"
   ]
  },
  {
   "cell_type": "code",
   "execution_count": null,
   "id": "6578488f-3aca-4077-8367-7c3770fbf989",
   "metadata": {},
   "outputs": [],
   "source": [
    "# make_average_around_event(test_metrics_continuous, -3000, 10000, y_to_plot = 0, label_prefix=\"error \")\n",
    "# make_average_around_event(test_metrics_continuous, -3000, 10000, y_to_plot = 1, label_prefix=\"non-error \")\n",
    "# plt.legend()\n",
    "# plt.ylim(0.004, 0.03)\n",
    "# plt.show()"
   ]
  },
  {
   "cell_type": "code",
   "execution_count": null,
   "id": "c17af77b-d583-4099-bfe0-4ddea410864a",
   "metadata": {},
   "outputs": [],
   "source": [
    "# make_average_around_event(test_metrics_continuous, -3000, 6000, y_to_plot = None)"
   ]
  },
  {
   "cell_type": "code",
   "execution_count": null,
   "id": "cc91b271-aaec-40be-af26-ba72ae1750b0",
   "metadata": {},
   "outputs": [],
   "source": [
    "\n",
    "y_variances = []\n",
    "y_predictions = []\n",
    "y_trues = []\n",
    "y_subj = []\n",
    "for event_index in range(len(event_indices[0])):\n",
    "    y_true = (test_metrics_continuous.y_true[event_indices[0][event_index]])\n",
    "\n",
    "    color = \"green\" if y_true else \"red\"\n",
    "\n",
    "    y_variances.append(test_metrics_continuous.y_variance[event_indices[0][event_index] + lower_window: event_indices[0][event_index] + upper_window])\n",
    "    y_predictions.append(test_metrics_continuous.y_predicted[event_indices[0][event_index] + lower_window: event_indices[0][event_index] + upper_window])\n",
    "    y_subj.append(test_metrics_continuous.y_subj_idx[event_indices[0][event_index] + lower_window: event_indices[0][event_index] + upper_window])\n",
    "    \n",
    "    y_trues.append(y_true_id[event_indices[0][event_index] + lower_window: event_indices[0][event_index] + upper_window])\n"
   ]
  },
  {
   "cell_type": "code",
   "execution_count": null,
   "id": "64748914-b85e-40f6-831a-fea1e046faa3",
   "metadata": {},
   "outputs": [],
   "source": [
    "\n",
    "\n",
    "stacked_subjects = torch.vstack(y_subj)\n",
    "stacked_variances = torch.vstack(y_variances)\n",
    "stacked_predictions = torch.vstack(y_predictions)\n",
    "stacked_trues = torch.vstack(y_trues)\n",
    "\n",
    "predictions_per_participant = []\n",
    "variances_per_participant = []\n",
    "trues_per_participant = []\n",
    "\n",
    "for i in range(1, 7):\n",
    "    predictions_per_participant.append(stacked_predictions[stacked_subjects == i].reshape(-1, stacked_subjects.shape[1]))\n",
    "    variances_per_participant.append(stacked_variances[stacked_subjects == i].reshape(-1, stacked_subjects.shape[1]))\n",
    "    trues_per_participant.append(stacked_trues[stacked_subjects == i].reshape(-1, stacked_subjects.shape[1]))"
   ]
  },
  {
   "cell_type": "code",
   "execution_count": null,
   "id": "5656f8b0-1cb4-4199-880f-b3fed0ef80ff",
   "metadata": {},
   "outputs": [],
   "source": [
    "predictions_per_participant[0].reshape(-1).shape"
   ]
  },
  {
   "cell_type": "code",
   "execution_count": null,
   "id": "5e6f9e91-934d-4822-b854-bda9cb0528df",
   "metadata": {},
   "outputs": [],
   "source": [
    "predictions_per_participant = []\n",
    "variances_per_participant = []\n",
    "trues_per_participant = []\n",
    "y_in_distribution_per_participant  = []\n",
    "\n",
    "for i in range(1, 7):\n",
    "    predictions_per_participant.append(test_metrics_continuous.y_predicted[test_metrics_continuous.y_subj_idx == i])\n",
    "    variances_per_participant.append(test_metrics_continuous.y_variance[test_metrics_continuous.y_subj_idx == i])\n",
    "    trues_per_participant.append(test_metrics_continuous.y_true[test_metrics_continuous.y_subj_idx == i])\n",
    "    y_in_distribution_per_participant.append(test_metrics_continuous.y_in_distribution[test_metrics_continuous.y_subj_idx == i])"
   ]
  },
  {
   "cell_type": "code",
   "execution_count": null,
   "id": "17189fdd-e526-418c-8774-29fde1bfc6ac",
   "metadata": {},
   "outputs": [],
   "source": [
    "predictions_per_participant[1].shape"
   ]
  },
  {
   "cell_type": "code",
   "execution_count": null,
   "id": "97af92d6-0d46-46c9-9ed3-7b2be49ea4a2",
   "metadata": {},
   "outputs": [],
   "source": [
    "optimal_thresholds = []\n",
    "interval_preds = []\n",
    "interval_truths = []\n",
    "\n",
    "aucs = []\n",
    "avg_variances = []\n",
    "for i, zipped in enumerate(zip(trues_per_participant, predictions_per_participant, y_in_distribution_per_participant)):\n",
    "    participant_trues, participant_predictions, participan_in_distribution = zipped\n",
    "    binarized_participant_trues = participant_trues.clone()\n",
    "    fpr, tpr, thresholds = roc_curve(1 - binarized_participant_trues.reshape(-1), 1 - participant_predictions.reshape(-1))\n",
    "    gmeans = np.sqrt(tpr * (1-fpr))\n",
    "    ix = np.argmax(gmeans)\n",
    "    print('Best Threshold=%f, G-Mean=%.3f' % (thresholds[ix], gmeans[ix]))\n",
    "    print(f\"Average variance: {variances_per_participant[i].mean()}\")\n",
    "    avg_variances.append(variances_per_participant[i].mean())\n",
    "    aucs.append(auc(fpr, tpr))\n",
    "\n",
    "    optimal_thresholds.append(thresholds[ix])\n",
    "    \n",
    "    \n",
    "    thresholded_participant_predictions = participant_predictions > thresholds[ix]\n",
    "    \n",
    "    print(classification_report(binarized_participant_trues.reshape(-1), thresholded_participant_predictions.reshape(-1)))\n",
    "    \n",
    "\n",
    "    \n",
    "    \n",
    "    plt.plot(fpr, tpr, label=f\"AUC =  {auc(fpr, tpr)}\")\n",
    "    plt.plot(np.arange(0, 1.1, 0.1), np.arange(0, 1.1, 0.1))\n",
    "    plt.plot(fpr[ix], tpr[ix], 'b+', mew=2, ms=20, label=f\"Best threshold = {thresholds[ix]}\")\n",
    "    plt.legend()\n",
    "    plt.title(f\"Participant {i +1}\")\n",
    "    plt.show()\n",
    "    \n",
    "\n",
    "\n",
    "plt.scatter(avg_variances, aucs)\n",
    "\n",
    "m, b = np.polyfit(avg_variances, aucs, 1)\n",
    "\n",
    "#use red as color for regression line\n",
    "plt.plot(avg_variances, m*np.array(avg_variances)+b, color='red')\n",
    "plt.xlabel(\"Average uncertainty\")\n",
    "plt.ylabel(\"AUC\")\n",
    "plt.show()"
   ]
  },
  {
   "cell_type": "code",
   "execution_count": null,
   "id": "eea85065-3134-4a4c-8b0f-295a73c79f4e",
   "metadata": {},
   "outputs": [],
   "source": [
    "all_id_truths = []\n",
    "all_id_preds = []\n",
    "\n",
    "all_truths = []\n",
    "all_preds = []\n",
    "\n",
    "f1s = []\n",
    "id_variances = []\n",
    "\n",
    "for i, trues, predictions, y_in_distribution, threshold in zip(range(0, len(trues_per_participant)), trues_per_participant, predictions_per_participant, y_in_distribution_per_participant, optimal_thresholds):\n",
    "    truths = trues[y_in_distribution].reshape(-1)\n",
    "    preds = (predictions[y_in_distribution] > threshold).reshape(-1)\n",
    "        \n",
    "    print(f\"Participant {i+1}\")    \n",
    "    print(f\"Average ID variance: {variances_per_participant[i][y_in_distribution].mean()}\")\n",
    "    print(classification_report(truths.numpy(), preds.numpy()))\n",
    "    f1s.append(f1_score(truths, preds))\n",
    "    id_variances.append(variances_per_participant[i][y_in_distribution].mean())\n",
    "    all_id_truths.append(truths)\n",
    "    \n",
    "    \n",
    "    all_id_preds.append(preds)\n",
    "    \n",
    "    all_truths.append(trues.reshape(-1))\n",
    "    all_preds.append((predictions > threshold).reshape(-1))\n",
    "        \n",
    "print(\"Averaged over all participants\")        \n",
    "print(classification_report(torch.hstack(all_id_truths).reshape(-1), torch.hstack(all_id_preds).reshape(-1)))\n",
    "               \n",
    "               \n",
    "plt.scatter(id_variances, f1s)\n",
    "\n",
    "m, b = np.polyfit(id_variances, f1s, 1)\n",
    "\n",
    "plt.plot(id_variances, m*np.array(id_variances)+b, color='red')\n",
    "plt.xlabel(\"Average ID uncertainty\")\n",
    "plt.ylabel(\"F1\")\n",
    "plt.show()\n",
    "\n",
    "\n",
    "plt.scatter(avg_variances, f1s)\n",
    "\n",
    "m, b = np.polyfit(avg_variances, f1s, 1)\n",
    "\n",
    "plt.plot(avg_variances, m*np.array(avg_variances)+b, color='red')\n",
    "plt.xlabel(\"Average ID+OOD uncertainty\")\n",
    "plt.ylabel(\"F1\")\n",
    "plt.show()\n"
   ]
  },
  {
   "cell_type": "code",
   "execution_count": null,
   "id": "10d5c9d9-20bc-4e47-b833-a9f22a5ec533",
   "metadata": {},
   "outputs": [],
   "source": [
    "stack_truths = torch.hstack(all_truths).reshape(-1).numpy()\n",
    "print(1 - test_metrics_continuous.y_in_distribution.numpy().mean() * 0.2)\n",
    "stack_truths = stack_truths.astype(bool)\n",
    "stack_preds = torch.hstack(all_preds).reshape(-1).numpy()\n",
    "\n"
   ]
  },
  {
   "cell_type": "code",
   "execution_count": null,
   "id": "f75a22c0-329b-4cdf-9ab4-c1fbca65ee71",
   "metadata": {},
   "outputs": [],
   "source": [
    "stack_truths.mean()"
   ]
  },
  {
   "cell_type": "code",
   "execution_count": null,
   "id": "f0466820-44c0-45e0-9bec-ab88bca1e3fc",
   "metadata": {},
   "outputs": [],
   "source": [
    "print(stack_preds.reshape(int(512 / continues_true_rate), -1).max(axis=0).shape)\n",
    "print(stack_preds.reshape(int(512 / continues_true_rate), -1).max(axis=0).mean())"
   ]
  },
  {
   "cell_type": "code",
   "execution_count": null,
   "id": "f41f73f6-9a81-46ef-bde8-7c44213b9995",
   "metadata": {},
   "outputs": [],
   "source": [
    "stack_truths.reshape(512, -1).min(axis=0).mean()"
   ]
  },
  {
   "cell_type": "code",
   "execution_count": null,
   "id": "b5c0d640-2f04-4d23-8485-ab59c5e74d53",
   "metadata": {},
   "outputs": [],
   "source": [
    "torch.hstack(all_id_truths).reshape(-1).numpy()"
   ]
  },
  {
   "cell_type": "code",
   "execution_count": null,
   "id": "9f8c59fd-070a-4c19-a118-303f176ef199",
   "metadata": {},
   "outputs": [],
   "source": [
    "stack_truths.mean()"
   ]
  },
  {
   "cell_type": "code",
   "execution_count": null,
   "id": "7675e07d-021c-4210-8dd7-b098dba16014",
   "metadata": {},
   "outputs": [],
   "source": [
    "stack_preds.mean()"
   ]
  },
  {
   "cell_type": "code",
   "execution_count": null,
   "id": "f7c63deb-1b7e-47cd-bb69-db1874d55ecb",
   "metadata": {},
   "outputs": [],
   "source": [
    "true_indices = np.where(~stack_truths)[0]\n",
    "pred_indices = np.where(~stack_preds)[0]\n",
    "\n",
    "nearest_true_indices = []\n",
    "distances = []\n",
    "for pred_index in range(len(stack_preds)):\n",
    "    # print(pred_index)\n",
    "    best_true_index = np.argmin(abs(true_indices - pred_index))\n",
    "    # print(best_true_index)\n",
    "    # print(true_indices[best_true_index], pred_index)\n",
    "    nearest_true_indices.append(best_true_index)\n",
    "    # distances.append(best_true_index)\n",
    "nearest_true_indices = np.array(nearest_true_indices)"
   ]
  },
  {
   "cell_type": "code",
   "execution_count": null,
   "id": "cafebbcc-130e-4df2-8969-f4343ed797e0",
   "metadata": {},
   "outputs": [],
   "source": [
    "distances"
   ]
  },
  {
   "cell_type": "code",
   "execution_count": null,
   "id": "08484937-39ea-4d4e-9c6f-4421f449f688",
   "metadata": {},
   "outputs": [],
   "source": [
    "plt.hist(list(map(samples_to_milliseconds, (nearest_true_indices[pred_indices] - pred_indices) * continues_true_rate)))"
   ]
  },
  {
   "cell_type": "code",
   "execution_count": null,
   "id": "0fd08b90-3dd8-4c1e-a4cd-0d96a9569c33",
   "metadata": {},
   "outputs": [],
   "source": [
    "distances = np.array(list(map(samples_to_milliseconds, (nearest_true_indices - range(len(stack_preds))) * continues_true_rate)))\n",
    "print(max(np.abs(distances[~stack_preds])))\n",
    "print(min(np.abs(distances[~stack_preds])))\n",
    "print(np.mean(np.abs(distances[~stack_preds])))\n",
    "print(np.mean(np.abs(distances[~stack_preds])))\n",
    "print(np.sum(np.abs(distances[~stack_preds]) < 100)) # 110246 @ 1 vs @ 3 12088\n",
    "print(np.sum(np.abs(distances[~stack_preds]) > 100)) # 95718  @ 1 vs @ 3 10263\n",
    "\n"
   ]
  },
  {
   "cell_type": "code",
   "execution_count": null,
   "id": "9f93a92c-4da2-4dce-bf7d-117f342d3bbe",
   "metadata": {},
   "outputs": [],
   "source": [
    "true_indices"
   ]
  },
  {
   "cell_type": "code",
   "execution_count": null,
   "id": "edd67b00-0180-4da9-9be4-dfca5b04b184",
   "metadata": {},
   "outputs": [],
   "source": [
    "distances"
   ]
  },
  {
   "cell_type": "code",
   "execution_count": null,
   "id": "78ea82a0-ce73-4e45-b90f-084811ba7362",
   "metadata": {},
   "outputs": [],
   "source": [
    "maximum_distance_to_tp = np.array(distances[:len(distances) - (len(distances) % milliseconds_to_samples(1000))]).reshape(milliseconds_to_samples(1000), -1).max(axis=0)"
   ]
  },
  {
   "cell_type": "code",
   "execution_count": null,
   "id": "1abbaeb9-5f5c-4e23-9e53-31483d172b88",
   "metadata": {},
   "outputs": [],
   "source": [
    "plt.hist(maximum_distance_to_tp)"
   ]
  },
  {
   "cell_type": "code",
   "execution_count": null,
   "id": "cdbe18eb-b448-4e03-876b-298732646016",
   "metadata": {},
   "outputs": [],
   "source": [
    "stack_preds[: len(stack_preds) - (len(stack_preds) % milliseconds_to_samples(1000))].reshape(milliseconds_to_samples(1000), -1).max(axis=0).mean()"
   ]
  },
  {
   "cell_type": "code",
   "execution_count": null,
   "id": "d9eb5991-7083-4e3e-9447-9d2d3e9ae5ec",
   "metadata": {},
   "outputs": [],
   "source": [
    "np.where(stack_preds[: len(stack_preds) - (len(stack_preds) % milliseconds_to_samples(1000))].reshape(milliseconds_to_samples(1000), -1).max(axis=0))[0]"
   ]
  },
  {
   "cell_type": "code",
   "execution_count": null,
   "id": "12a6ce39-d003-41b1-9b75-b8f4f9be4358",
   "metadata": {},
   "outputs": [],
   "source": [
    "x_range = range(0, 600)\n",
    "FARs = [(maximum_distance_to_tp > i).mean() for i in x_range]\n",
    "\n",
    "plt.plot(x_range, FARs)\n",
    "plt.xlabel(\"Maximum allowable distance to positive onset in ms\")\n",
    "plt.ylabel(\"FAR\")\n",
    "plt.show()"
   ]
  },
  {
   "cell_type": "code",
   "execution_count": null,
   "id": "f9c05b3a-a062-43e2-93d9-c80676c8ec96",
   "metadata": {},
   "outputs": [],
   "source": [
    "test_metrics_continuous.y_predicted - 2 * test_metrics_continuous.y_variance"
   ]
  },
  {
   "cell_type": "code",
   "execution_count": null,
   "id": "f32a8a5c-761c-4e94-8a2c-98beeb4a5563",
   "metadata": {},
   "outputs": [],
   "source": [
    "plt.scatter(test_metrics_continuous.y_predicted[test_metrics_continuous.y_in_distribution], test_metrics_continuous.y_variance[test_metrics_continuous.y_in_distribution])\n",
    "plt.xlabel(\"predicted value\")\n",
    "plt.ylabel(\"variance\")"
   ]
  },
  {
   "cell_type": "code",
   "execution_count": null,
   "id": "d70b330e-9c58-4e7f-bc2a-14900c6de109",
   "metadata": {},
   "outputs": [],
   "source": [
    "plt.scatter(test_metrics_continuous.y_predicted[~test_metrics_continuous.y_in_distribution], test_metrics_continuous.y_variance[~test_metrics_continuous.y_in_distribution])\n",
    "plt.xlabel(\"predicted value\")\n",
    "plt.ylabel(\"variance\")"
   ]
  },
  {
   "cell_type": "code",
   "execution_count": null,
   "id": "cdf3aa40-3943-43c4-8eda-084cee513ac2",
   "metadata": {},
   "outputs": [],
   "source": [
    "plt.scatter(test_metrics_continuous.y_predicted, test_metrics_continuous.y_variance)\n",
    "plt.xlabel(\"predicted value\")\n",
    "plt.ylabel(\"variance\")"
   ]
  },
  {
   "cell_type": "code",
   "execution_count": null,
   "id": "375aa15d-6688-4f6e-afab-7c920d2f0fcb",
   "metadata": {},
   "outputs": [],
   "source": [
    "\n",
    "names = [\n",
    "    \"400ms\",\n",
    "    \"600ms\", \n",
    "    \"1000ms\",\n",
    "]\n",
    "paths = [\n",
    "    \"BCI_root/Results/metrics_400ms5ensembleCorreiaNet_continuous_[2022-12-07,16:39].pkl\",\n",
    "    \"BCI_root/Results/metrics_600ms5ensembleCorreiaNet_continuous_[2022-12-07,16:52].pkl\",\n",
    "    \"BCI_root/Results/metrics_1000ms5ensembleCorreiaNet_continuous_[2022-12-07,16:09].pkl\",\n",
    "]\n",
    "\n",
    "\n",
    "for name, path in zip(names, paths):\n",
    "    metrics = open_file_pickle(path)\n",
    "\n",
    "    make_average_around_event(metrics, -600, 1000, y_to_plot = 0, label_prefix=f\"non-error_{name}\")\n",
    "    # make_average_around_event(metrics, -600, 1000, y_to_plot = 1, label_prefix=f\"error_{name}\")\n",
    "    # plt.legend()\n",
    "    # plt.show()\n",
    "plt.legend()\n",
    "plt.show()\n",
    "\n",
    "for name, path in zip(names, paths):\n",
    "    metrics = open_file_pickle(path)\n",
    "\n",
    "    # make_average_around_event(metrics, -600, 1000, y_to_plot = 0, label_prefix=f\"non-error_{name}\")\n",
    "    make_average_around_event(metrics, -600, 1000, y_to_plot = 1, label_prefix=f\"error_{name}\")\n",
    "    # plt.legend()\n",
    "    # plt.show()\n",
    "plt.legend()\n",
    "plt.show()"
   ]
  },
  {
   "cell_type": "code",
   "execution_count": null,
   "id": "f7cc03cc-c84d-439f-9063-c65258961165",
   "metadata": {},
   "outputs": [],
   "source": [
    "undersampling_interval = 10\n",
    "\n",
    "\n",
    "paths = [\n",
    "    \"BCI_root/Results/metrics_Ensemble_CorreiaNet_continuous_[2022-12-06,10:21].pkl\",\n",
    "    \"BCI_root/Results/metrics_NoStrideCorreiaNetEnsemble_continuous_[2022-12-07,11:37].pkl\",\n",
    "    \"BCI_root/Results/metrics_BayesianCorreiaNet_continuous_[2022-12-06,12:24].pkl\",\n",
    "    \"BCI_root/Results/metrics_Balanced20EnsembleCorreiaNet_continuous_[2022-12-06,19:55].pkl\",\n",
    "    \"BCI_root/Results/metrics_UnbalancedBayesianCorreiaNet_continuous_[2022-12-06,13:03].pkl\",\n",
    "    \"BCI_root/Results/metrics_1000ms5ensembleCorreiaNet_continuous_[2022-12-07,16:09].pkl\",\n",
    "    \n",
    "    \"BCI_root/Results/metrics_400ms5ensembleCorreiaNet_continuous_[2022-12-07,16:39].pkl\",\n",
    "    \"BCI_root/Results/metrics_600ms5ensembleCorreiaNet_continuous_[2022-12-07,16:52].pkl\",\n",
    "    \"BCI_root/Results/metrics_1000ms5ensembleCorreiaNet_continuous_[2022-12-07,16:09].pkl\",\n",
    "    \n",
    "    \"BCI_root/Results/metrics_Ensemble_EEGNet_continuous_[2022-12-06,10:47].pkl\",\n",
    "    \"BCI_root/Results/metrics_20Ensemble_EEGNet_continuous_[2022-12-06,11:46].pkl\",\n",
    "    \"BCI_root/Results/metrics_Unbalanced20EnsembleEEGNet_continuous_[2022-12-06,15:17].pkl\",\n",
    "    \"BCI_root/Results/metrics_BayesianEEGNet_continuous_[2022-12-06,11:54].pkl\",\n",
    "    \"BCI_root/Results/metrics_Proper_EEGNet_continuous_[2022-12-07,12:13].pkl\",\n",
    "    \"BCI_root/Results/metrics_5ensembleProper_EEGNet_continuous_[2022-12-07,12:37].pkl\",\n",
    "    \"BCI_root/Results/metrics_CrossEntropy5ensembleProper_EEGNet_continuous_[2022-12-07,14:52].pkl\",\n",
    "]\n",
    "\n",
    "\n",
    "\n",
    "\n",
    "for path in paths[0:1]:\n",
    "\n",
    "    metrics = open_file_pickle(path)\n",
    "    \n",
    "    plt.scatter(metrics.y_predicted, metrics.y_variance)\n",
    "    plt.xlabel(\"predicted value\")\n",
    "    plt.ylabel(\"variance\")\n",
    "    plt.title(path)\n",
    "    plt.show()"
   ]
  },
  {
   "cell_type": "code",
   "execution_count": null,
   "id": "b05fb331-151e-4ad8-8933-5e70015dc9a9",
   "metadata": {},
   "outputs": [],
   "source": []
  }
 ],
 "metadata": {
  "kernelspec": {
   "display_name": "Python 3 (ipykernel)",
   "language": "python",
   "name": "python3"
  },
  "language_info": {
   "codemirror_mode": {
    "name": "ipython",
    "version": 3
   },
   "file_extension": ".py",
   "mimetype": "text/x-python",
   "name": "python",
   "nbconvert_exporter": "python",
   "pygments_lexer": "ipython3",
   "version": "3.9.14"
  }
 },
 "nbformat": 4,
 "nbformat_minor": 5
}
